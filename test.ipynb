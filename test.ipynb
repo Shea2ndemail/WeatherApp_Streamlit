{
 "cells": [
  {
   "cell_type": "code",
   "execution_count": 9,
   "metadata": {},
   "outputs": [
    {
     "data": {
      "text/plain": [
       "<sqlalchemy.engine.cursor.LegacyCursorResult at 0x239b270ccc8>"
      ]
     },
     "execution_count": 9,
     "metadata": {},
     "output_type": "execute_result"
    }
   ],
   "source": [
    "import streamlit as st\n",
    "from sqlalchemy import create_engine\n",
    "import pandas as pd\n",
    "from datetime import datetime, timedelta\n",
    "import plotly.express as px\n",
    "\n",
    "now = datetime.now()\n",
    "cutoff_dt = now - timedelta(hours=24)\n",
    "\n",
    "host = 'ec2-44-210-50-83.compute-1.amazonaws.com'\n",
    "db = 'd1fp8mklv5sglk'\n",
    "user = 'tmrjpxsyzlnbdg'\n",
    "port = '5432'\n",
    "pwd = 'bf5fa66390bf26d445af2bdfbb4ec899b119150825b6008781acd4abfd267e0b'\n",
    "\n",
    "engine = create_engine('postgresql://{}:{}@{}:{}/{}'.format(user, pwd, host, port, db))\n",
    "\n",
    "#sqlstring =\"\"\"CREATE TABLE todo_list (\n",
    "#\tuser_id serial PRIMARY KEY,\n",
    "#\ttodo_item VARCHAR ( 50 ) UNIQUE NOT NULL);\"\"\"\n",
    "\n",
    "#sqlstring = \"\"\"INSERT INTO todo_list VALUES\n",
    "#    (2, 'sdfdf');\"\"\"\n",
    "\n",
    "sqlstring = 'ALTER TABLE your_table ADD COLUMN key_column BIGSERIAL PRIMARY KEY;'\n",
    "\n",
    "engine.execute(sqlstring)"
   ]
  },
  {
   "cell_type": "code",
   "execution_count": 10,
   "metadata": {},
   "outputs": [
    {
     "data": {
      "text/html": [
       "<div>\n",
       "<style scoped>\n",
       "    .dataframe tbody tr th:only-of-type {\n",
       "        vertical-align: middle;\n",
       "    }\n",
       "\n",
       "    .dataframe tbody tr th {\n",
       "        vertical-align: top;\n",
       "    }\n",
       "\n",
       "    .dataframe thead th {\n",
       "        text-align: right;\n",
       "    }\n",
       "</style>\n",
       "<table border=\"1\" class=\"dataframe\">\n",
       "  <thead>\n",
       "    <tr style=\"text-align: right;\">\n",
       "      <th></th>\n",
       "      <th>user_id</th>\n",
       "      <th>todo_item</th>\n",
       "    </tr>\n",
       "  </thead>\n",
       "  <tbody>\n",
       "    <tr>\n",
       "      <th>0</th>\n",
       "      <td>1</td>\n",
       "      <td>clean</td>\n",
       "    </tr>\n",
       "    <tr>\n",
       "      <th>1</th>\n",
       "      <td>2</td>\n",
       "      <td>sdfdf</td>\n",
       "    </tr>\n",
       "  </tbody>\n",
       "</table>\n",
       "</div>"
      ],
      "text/plain": [
       "   user_id todo_item\n",
       "0        1     clean\n",
       "1        2     sdfdf"
      ]
     },
     "execution_count": 10,
     "metadata": {},
     "output_type": "execute_result"
    }
   ],
   "source": [
    "df = pd.read_sql(\"select * from todo_list\", con = engine)\n",
    "df"
   ]
  }
 ],
 "metadata": {
  "kernelspec": {
   "display_name": "Python 3.7.5 ('venv': venv)",
   "language": "python",
   "name": "python3"
  },
  "language_info": {
   "codemirror_mode": {
    "name": "ipython",
    "version": 3
   },
   "file_extension": ".py",
   "mimetype": "text/x-python",
   "name": "python",
   "nbconvert_exporter": "python",
   "pygments_lexer": "ipython3",
   "version": "3.7.5"
  },
  "orig_nbformat": 4,
  "vscode": {
   "interpreter": {
    "hash": "5f4cf5d58d1e5bc4e993fa362b47e9454b5a0654a28ada8e1f09d832f369d61a"
   }
  }
 },
 "nbformat": 4,
 "nbformat_minor": 2
}
